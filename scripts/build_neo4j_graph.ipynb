{
 "cells": [
  {
   "cell_type": "markdown",
   "metadata": {},
   "source": [
    "## 构建neo4j图"
   ]
  },
  {
   "cell_type": "code",
   "execution_count": 10,
   "metadata": {},
   "outputs": [],
   "source": [
    "import networkx as nx\n",
    "from py2neo import Graph, Node, Relationship\n",
    "from networkx.readwrite import json_graph\n",
    "import json\n",
    "import pandas as pd"
   ]
  },
  {
   "cell_type": "markdown",
   "metadata": {},
   "source": [
    "#### 导入数据"
   ]
  },
  {
   "cell_type": "code",
   "execution_count": 4,
   "metadata": {},
   "outputs": [
    {
     "name": "stdout",
     "output_type": "stream",
     "text": [
      "The number of graph nodes are: 53286 and the number of edges are: 143449\n"
     ]
    }
   ],
   "source": [
    "graph_path = \"../data/CICAPT_IIOT/Phase2_Provenance.graphml\"\n",
    "graph = nx.read_graphml(graph_path)\n",
    "print(f\"The number of graph nodes are: {graph.number_of_nodes()} and the number of edges are: {graph.number_of_edges()}\")"
   ]
  },
  {
   "cell_type": "code",
   "execution_count": 3,
   "metadata": {},
   "outputs": [
    {
     "name": "stdout",
     "output_type": "stream",
     "text": [
      "前5个节点及其属性：\n",
      "节点ID: e36715b62c8cdc32e47483b3600712f1, 属性: {'type': 'Process', 'uid': 0.0, 'egid': 0.0, 'exe': '/usr/bin/dash', 'gid': 0.0, 'euid': 0.0, 'name': 'ethtool', 'path': nan, 'subtype': nan, 'permissions': nan, 'remote port': nan, 'remote address': nan}\n",
      "节点ID: ca5b322fa4d4cb63aa5dd9fbd88e37e4, 属性: {'type': 'Process', 'uid': 0.0, 'egid': 0.0, 'exe': '/usr/bin/dash', 'gid': 0.0, 'euid': 0.0, 'name': 'ethtool', 'path': nan, 'subtype': nan, 'permissions': nan, 'remote port': nan, 'remote address': nan}\n",
      "节点ID: 216f4d4893942a66d649c4e02b5722c4, 属性: {'type': 'Artifact', 'uid': nan, 'egid': nan, 'exe': nan, 'gid': nan, 'euid': nan, 'name': nan, 'path': '/etc/network/if-up.d/ethtool', 'subtype': 'file', 'permissions': 755.0, 'remote port': nan, 'remote address': nan}\n",
      "节点ID: bdc2ca1d94be5a3958f6621d8b52fdb0, 属性: {'type': 'Artifact', 'uid': nan, 'egid': nan, 'exe': nan, 'gid': nan, 'euid': nan, 'name': nan, 'path': '/bin/sh', 'subtype': 'file', 'permissions': 755.0, 'remote port': nan, 'remote address': nan}\n",
      "节点ID: 02a4195a9866b7c9eba7405c13110dad, 属性: {'type': 'Artifact', 'uid': nan, 'egid': nan, 'exe': nan, 'gid': nan, 'euid': nan, 'name': nan, 'path': '/lib64/ld-linux-x86-64.so.2', 'subtype': 'file', 'permissions': 755.0, 'remote port': nan, 'remote address': nan}\n",
      "\n",
      "前5条边及其属性：\n",
      "起点: e36715b62c8cdc32e47483b3600712f1, 终点: ca5b322fa4d4cb63aa5dd9fbd88e37e4, 属性: {'type': 'WasTriggeredBy', 'operation': 'execve'}\n",
      "起点: e36715b62c8cdc32e47483b3600712f1, 终点: 216f4d4893942a66d649c4e02b5722c4, 属性: {'type': 'Used', 'operation': 'load'}\n",
      "起点: e36715b62c8cdc32e47483b3600712f1, 终点: bdc2ca1d94be5a3958f6621d8b52fdb0, 属性: {'type': 'Used', 'operation': 'load'}\n",
      "起点: e36715b62c8cdc32e47483b3600712f1, 终点: 02a4195a9866b7c9eba7405c13110dad, 属性: {'type': 'Used', 'operation': 'load'}\n",
      "起点: 8b6765b85687fc106c38efdd4a400f5f, 终点: b55dcc91b1270f16cef024e045a3aa76, 属性: {'type': 'WasTriggeredBy', 'operation': 'execve'}\n"
     ]
    }
   ],
   "source": [
    "# 打印前5个节点及其属性\n",
    "print(\"前5个节点及其属性：\")\n",
    "for i, (node, attr) in enumerate(graph.nodes(data=True)):\n",
    "    print(f\"节点ID: {node}, 属性: {attr}\")\n",
    "    if i >= 4:\n",
    "        break\n",
    "\n",
    "# 打印前5条边及其属性\n",
    "print(\"\\n前5条边及其属性：\")\n",
    "for i, (u, v, attr) in enumerate(graph.edges(data=True)):\n",
    "    print(f\"起点: {u}, 终点: {v}, 属性: {attr}\")\n",
    "    if i >= 4:\n",
    "        break"
   ]
  },
  {
   "cell_type": "markdown",
   "metadata": {},
   "source": [
    "#### 导出为json格式"
   ]
  },
  {
   "cell_type": "code",
   "execution_count": null,
   "metadata": {},
   "outputs": [],
   "source": [
    "json_data = json_graph.node_link_data(graph)\n",
    "json_save_dir = \"../data/CICAPT_IIOT/Phase2_Provenance.json\"\n",
    "\n",
    "with open(json_save_dir, 'w') as f:\n",
    "    json.dump(json_data, f, indent=2)"
   ]
  },
  {
   "cell_type": "markdown",
   "metadata": {},
   "source": [
    "#### 导出为csv"
   ]
  },
  {
   "cell_type": "code",
   "execution_count": 9,
   "metadata": {},
   "outputs": [],
   "source": [
    "nodes_csv_save_dir = \"../data/CICAPT_IIOT/Phase2_Provenance_nodes.csv\"\n",
    "edges_csv_save_dir = \"../data/CICAPT_IIOT/Phase2_Provenance_edges.csv\"\n",
    "\n",
    "# 导出nodes\n",
    "nodes = [{'id': n, **graph.nodes[n]} for n in graph.nodes()]\n",
    "nodes_df = pd.DataFrame(nodes)\n",
    "nodes_df.to_csv(nodes_csv_save_dir, index=False)\n",
    "\n",
    "# 导出edges\n",
    "edges = [{'from': u, 'to': v, **attrs} for u, v, attrs in graph.edges(data=True)]\n",
    "edges_df = pd.DataFrame(edges)\n",
    "edges_df.to_csv(edges_csv_save_dir, index=False)\n"
   ]
  },
  {
   "cell_type": "markdown",
   "metadata": {},
   "source": [
    "#### 连接neo4j"
   ]
  },
  {
   "cell_type": "code",
   "execution_count": 7,
   "metadata": {},
   "outputs": [
    {
     "data": {
      "text/html": [
       "(No data)"
      ],
      "text/plain": [
       "(No data)"
      ]
     },
     "execution_count": 7,
     "metadata": {},
     "output_type": "execute_result"
    }
   ],
   "source": [
    "G = Graph('bolt://localhost:7687', auth=('neo4j', 'qujinhao150ok'))\n",
    "# 删除所有实体和关系\n",
    "cypher = 'MATCH (n) DETACH DELETE n'\n",
    "G.run(cypher)"
   ]
  },
  {
   "cell_type": "markdown",
   "metadata": {},
   "source": [
    "#### 构建图"
   ]
  },
  {
   "cell_type": "code",
   "execution_count": 8,
   "metadata": {},
   "outputs": [],
   "source": [
    "# 创建nodes\n",
    "nodes_cache = {} # 保存所有的node结点，构建边时需要用到\n",
    "for node_id, attrs in graph.nodes(data=True):\n",
    "    main_label = attrs.get('type', 'unknown') # 主标签\n",
    "    labels = [main_label]\n",
    "    if main_label == 'artifact' and 'subtype' in attrs:\n",
    "        labels.append(attrs['subtype']) # 子标签\n",
    "    node_attrs = {k: v for k, v in attrs.items() if k not in ['type', 'subtype']}\n",
    "    node = Node(*labels, id=node_id, **node_attrs)\n",
    "    G.create(node)\n",
    "    nodes_cache[node_id] = node"
   ]
  },
  {
   "cell_type": "code",
   "execution_count": 11,
   "metadata": {},
   "outputs": [],
   "source": [
    "# 创建edges\n",
    "for u, v, attrs in graph.edges(data=True):\n",
    "    rel_type = attrs.get('type', 'unknown')  # 关系类型\n",
    "    # 关系属性，去掉type字段\n",
    "    rel_attrs = {k: v for k, v in attrs.items() if k != 'type'}\n",
    "    # 获取起点和终点节点对象\n",
    "    start_node = nodes_cache.get(u)\n",
    "    end_node = nodes_cache.get(v)\n",
    "    if start_node is None or end_node is None:\n",
    "        print(f\"节点未找到: {u} 或 {v}\")\n",
    "        continue\n",
    "    # 创建关系\n",
    "    rel = Relationship(start_node, rel_type, end_node, **rel_attrs)\n",
    "    G.create(rel)"
   ]
  },
  {
   "cell_type": "markdown",
   "metadata": {},
   "source": [
    "##### 构建process结点"
   ]
  },
  {
   "cell_type": "code",
   "execution_count": 12,
   "metadata": {},
   "outputs": [],
   "source": [
    "# 字段包括：id\ttype\tuid\tegid\texe\tgid\teuid\tname\n"
   ]
  },
  {
   "cell_type": "markdown",
   "metadata": {},
   "source": [
    "##### 构建artifact：file、directory、link结点"
   ]
  },
  {
   "cell_type": "code",
   "execution_count": null,
   "metadata": {},
   "outputs": [],
   "source": [
    "# 字段包括： id\ttype  path\tsubtype\tpermissions\n",
    "# name为path，label为subtype(artifact)\n"
   ]
  },
  {
   "cell_type": "markdown",
   "metadata": {},
   "source": [
    "##### 构建network socket(artifact)结点"
   ]
  },
  {
   "cell_type": "code",
   "execution_count": null,
   "metadata": {},
   "outputs": [],
   "source": [
    "# 字段包括： id\ttype subtype\tremote port\tremote address\n",
    "# name需要构建 address:port"
   ]
  },
  {
   "cell_type": "markdown",
   "metadata": {},
   "source": [
    "构建unknown(artifact)结点"
   ]
  },
  {
   "cell_type": "code",
   "execution_count": null,
   "metadata": {},
   "outputs": [],
   "source": [
    "# 没有属性，只有id\ttype subtype字段"
   ]
  }
 ],
 "metadata": {
  "kernelspec": {
   "display_name": "apt",
   "language": "python",
   "name": "python3"
  },
  "language_info": {
   "codemirror_mode": {
    "name": "ipython",
    "version": 3
   },
   "file_extension": ".py",
   "mimetype": "text/x-python",
   "name": "python",
   "nbconvert_exporter": "python",
   "pygments_lexer": "ipython3",
   "version": "3.9.23"
  }
 },
 "nbformat": 4,
 "nbformat_minor": 2
}
